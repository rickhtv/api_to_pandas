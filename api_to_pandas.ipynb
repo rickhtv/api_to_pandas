{
 "cells": [
  {
   "cell_type": "code",
   "execution_count": 1,
   "metadata": {},
   "outputs": [],
   "source": [
    "#imports \n",
    "import pandas as pd \n",
    "import requests"
   ]
  },
  {
   "cell_type": "code",
   "execution_count": 6,
   "metadata": {},
   "outputs": [],
   "source": [
    "#url = 'https://api.covid19api.com/summary' #Covid information API \n",
    "url = \"https://api.coincap.io/v2/candles?exchange=poloniex&interval=h8&baseId=ethereum&quoteId=bitcoin\" #Bitcoin quote API "
   ]
  },
  {
   "cell_type": "code",
   "execution_count": 7,
   "metadata": {},
   "outputs": [],
   "source": [
    "r = requests.get(url) #Process the URL in a requests "
   ]
  },
  {
   "cell_type": "code",
   "execution_count": 8,
   "metadata": {},
   "outputs": [
    {
     "data": {
      "text/plain": [
       "<Response [200]>"
      ]
     },
     "execution_count": 8,
     "metadata": {},
     "output_type": "execute_result"
    }
   ],
   "source": [
    "r #checking if request is ok \"200\""
   ]
  },
  {
   "cell_type": "code",
   "execution_count": 9,
   "metadata": {},
   "outputs": [],
   "source": [
    "json = r.json() #reading request in a json "
   ]
  },
  {
   "cell_type": "code",
   "execution_count": 10,
   "metadata": {},
   "outputs": [
    {
     "data": {
      "text/plain": [
       "dict_keys(['data', 'timestamp'])"
      ]
     },
     "execution_count": 10,
     "metadata": {},
     "output_type": "execute_result"
    }
   ],
   "source": [
    "json.keys() #looking at the keys of the json file "
   ]
  },
  {
   "cell_type": "code",
   "execution_count": 11,
   "metadata": {},
   "outputs": [],
   "source": [
    "df = pd.DataFrame(json[\"data\"]) #importing the data to a data frame "
   ]
  },
  {
   "cell_type": "code",
   "execution_count": 12,
   "metadata": {},
   "outputs": [
    {
     "data": {
      "text/html": [
       "<div>\n",
       "<style scoped>\n",
       "    .dataframe tbody tr th:only-of-type {\n",
       "        vertical-align: middle;\n",
       "    }\n",
       "\n",
       "    .dataframe tbody tr th {\n",
       "        vertical-align: top;\n",
       "    }\n",
       "\n",
       "    .dataframe thead th {\n",
       "        text-align: right;\n",
       "    }\n",
       "</style>\n",
       "<table border=\"1\" class=\"dataframe\">\n",
       "  <thead>\n",
       "    <tr style=\"text-align: right;\">\n",
       "      <th></th>\n",
       "      <th>open</th>\n",
       "      <th>high</th>\n",
       "      <th>low</th>\n",
       "      <th>close</th>\n",
       "      <th>volume</th>\n",
       "      <th>period</th>\n",
       "    </tr>\n",
       "  </thead>\n",
       "  <tbody>\n",
       "    <tr>\n",
       "      <th>0</th>\n",
       "      <td>0.0786502900000000</td>\n",
       "      <td>0.0792308600000000</td>\n",
       "      <td>0.0784127300000000</td>\n",
       "      <td>0.0787072500000000</td>\n",
       "      <td>329.7734269800000000</td>\n",
       "      <td>1640880000000</td>\n",
       "    </tr>\n",
       "    <tr>\n",
       "      <th>1</th>\n",
       "      <td>0.0786966800000000</td>\n",
       "      <td>0.0794534300000000</td>\n",
       "      <td>0.0785859200000000</td>\n",
       "      <td>0.0788280000000000</td>\n",
       "      <td>1296.3274960800000000</td>\n",
       "      <td>1640908800000</td>\n",
       "    </tr>\n",
       "    <tr>\n",
       "      <th>2</th>\n",
       "      <td>0.0788655100000000</td>\n",
       "      <td>0.0792726900000000</td>\n",
       "      <td>0.0783739600000000</td>\n",
       "      <td>0.0788957800000000</td>\n",
       "      <td>420.2121211800000000</td>\n",
       "      <td>1640937600000</td>\n",
       "    </tr>\n",
       "    <tr>\n",
       "      <th>3</th>\n",
       "      <td>0.0788826400000000</td>\n",
       "      <td>0.0797506800000000</td>\n",
       "      <td>0.0786679200000000</td>\n",
       "      <td>0.0795759300000000</td>\n",
       "      <td>732.9722077500000000</td>\n",
       "      <td>1640966400000</td>\n",
       "    </tr>\n",
       "    <tr>\n",
       "      <th>4</th>\n",
       "      <td>0.0796375900000000</td>\n",
       "      <td>0.0798898400000000</td>\n",
       "      <td>0.0786891200000000</td>\n",
       "      <td>0.0786891200000000</td>\n",
       "      <td>228.1108377700000000</td>\n",
       "      <td>1640995200000</td>\n",
       "    </tr>\n",
       "    <tr>\n",
       "      <th>...</th>\n",
       "      <td>...</td>\n",
       "      <td>...</td>\n",
       "      <td>...</td>\n",
       "      <td>...</td>\n",
       "      <td>...</td>\n",
       "      <td>...</td>\n",
       "    </tr>\n",
       "    <tr>\n",
       "      <th>636</th>\n",
       "      <td>0.0707890400000000</td>\n",
       "      <td>0.0718420600000000</td>\n",
       "      <td>0.0699540400000000</td>\n",
       "      <td>0.0717485800000000</td>\n",
       "      <td>158.8174136600000000</td>\n",
       "      <td>1659196800000</td>\n",
       "    </tr>\n",
       "    <tr>\n",
       "      <th>637</th>\n",
       "      <td>0.0717576800000000</td>\n",
       "      <td>0.0720510900000000</td>\n",
       "      <td>0.0712086200000000</td>\n",
       "      <td>0.0716011600000000</td>\n",
       "      <td>40.7807949400000000</td>\n",
       "      <td>1659225600000</td>\n",
       "    </tr>\n",
       "    <tr>\n",
       "      <th>638</th>\n",
       "      <td>0.0716038800000000</td>\n",
       "      <td>0.0722600000000000</td>\n",
       "      <td>0.0715218500000000</td>\n",
       "      <td>0.0720072800000000</td>\n",
       "      <td>78.9337751500000000</td>\n",
       "      <td>1659254400000</td>\n",
       "    </tr>\n",
       "    <tr>\n",
       "      <th>639</th>\n",
       "      <td>0.0720056100000000</td>\n",
       "      <td>0.0728211600000000</td>\n",
       "      <td>0.0716200000000000</td>\n",
       "      <td>0.0721138900000000</td>\n",
       "      <td>268.0899631100000000</td>\n",
       "      <td>1659283200000</td>\n",
       "    </tr>\n",
       "    <tr>\n",
       "      <th>640</th>\n",
       "      <td>0.0720893500000000</td>\n",
       "      <td>0.0721498500000000</td>\n",
       "      <td>0.0720616300000000</td>\n",
       "      <td>0.0721498500000000</td>\n",
       "      <td>0.0203477800000000</td>\n",
       "      <td>1659312000000</td>\n",
       "    </tr>\n",
       "  </tbody>\n",
       "</table>\n",
       "<p>641 rows × 6 columns</p>\n",
       "</div>"
      ],
      "text/plain": [
       "                   open                high                 low  \\\n",
       "0    0.0786502900000000  0.0792308600000000  0.0784127300000000   \n",
       "1    0.0786966800000000  0.0794534300000000  0.0785859200000000   \n",
       "2    0.0788655100000000  0.0792726900000000  0.0783739600000000   \n",
       "3    0.0788826400000000  0.0797506800000000  0.0786679200000000   \n",
       "4    0.0796375900000000  0.0798898400000000  0.0786891200000000   \n",
       "..                  ...                 ...                 ...   \n",
       "636  0.0707890400000000  0.0718420600000000  0.0699540400000000   \n",
       "637  0.0717576800000000  0.0720510900000000  0.0712086200000000   \n",
       "638  0.0716038800000000  0.0722600000000000  0.0715218500000000   \n",
       "639  0.0720056100000000  0.0728211600000000  0.0716200000000000   \n",
       "640  0.0720893500000000  0.0721498500000000  0.0720616300000000   \n",
       "\n",
       "                  close                 volume         period  \n",
       "0    0.0787072500000000   329.7734269800000000  1640880000000  \n",
       "1    0.0788280000000000  1296.3274960800000000  1640908800000  \n",
       "2    0.0788957800000000   420.2121211800000000  1640937600000  \n",
       "3    0.0795759300000000   732.9722077500000000  1640966400000  \n",
       "4    0.0786891200000000   228.1108377700000000  1640995200000  \n",
       "..                  ...                    ...            ...  \n",
       "636  0.0717485800000000   158.8174136600000000  1659196800000  \n",
       "637  0.0716011600000000    40.7807949400000000  1659225600000  \n",
       "638  0.0720072800000000    78.9337751500000000  1659254400000  \n",
       "639  0.0721138900000000   268.0899631100000000  1659283200000  \n",
       "640  0.0721498500000000     0.0203477800000000  1659312000000  \n",
       "\n",
       "[641 rows x 6 columns]"
      ]
     },
     "execution_count": 12,
     "metadata": {},
     "output_type": "execute_result"
    }
   ],
   "source": [
    "df #reading the data frame "
   ]
  }
 ],
 "metadata": {
  "kernelspec": {
   "display_name": "Python 3.8.8 ('base')",
   "language": "python",
   "name": "python3"
  },
  "language_info": {
   "codemirror_mode": {
    "name": "ipython",
    "version": 3
   },
   "file_extension": ".py",
   "mimetype": "text/x-python",
   "name": "python",
   "nbconvert_exporter": "python",
   "pygments_lexer": "ipython3",
   "version": "3.8.8"
  },
  "orig_nbformat": 4,
  "vscode": {
   "interpreter": {
    "hash": "32e4382b89f61c5489df34525136ee04848ef2d03fdea9ee93212715295cc80c"
   }
  }
 },
 "nbformat": 4,
 "nbformat_minor": 2
}
